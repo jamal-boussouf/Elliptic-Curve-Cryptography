{
 "cells": [
  {
   "cell_type": "code",
   "execution_count": 8,
   "id": "942f25cf-0fa6-45e0-ae61-42ffd71d0ddd",
   "metadata": {},
   "outputs": [
    {
     "name": "stdout",
     "output_type": "stream",
     "text": [
      "'cypari2' already in sys.modules\n"
     ]
    }
   ],
   "source": [
    "#check if cypari2 is installed or not and install it if not\n",
    "import importlib.util\n",
    "import sys\n",
    "import os\n",
    "if 'cypari2' in sys.modules:\n",
    "    print(f\"'cypari2' already in sys.modules\")\n",
    "elif (spec := importlib.util.find_spec('cypari2')) is not None:\n",
    "    # If you choose to perform the actual import ...\n",
    "    module = importlib.util.module_from_spec(spec)\n",
    "    sys.modules['cypari2'] = module\n",
    "    spec.loader.exec_module(module)\n",
    "    print(f\"'cypari2' has been imported\")\n",
    "else:\n",
    "    install = input(\"Do you want to install cypari2 to complicate the work? (y/n): \")\n",
    "    if install == 'y':\n",
    "        os.system('pip install cypari2')\n",
    "    else:\n",
    "        print('[!]sorry we can complit work')\n",
    "        sys.exit()"
   ]
  },
  {
   "cell_type": "code",
   "execution_count": 9,
   "id": "6eea68ca-bf67-413b-8ee5-035de93bd73e",
   "metadata": {},
   "outputs": [],
   "source": [
    "from cypari2 import Pari\n",
    "pari = Pari()"
   ]
  },
  {
   "cell_type": "code",
   "execution_count": 10,
   "id": "7556842f-6f17-426f-b394-949febbd3712",
   "metadata": {},
   "outputs": [],
   "source": [
    "#select the ECDSA element\n",
    "class ECDSASys:\n",
    "    #here we choose only a and b because in ECDSA the GCD(p, order) = 1\n",
    "    def __init__(self, a, b):\n",
    "        self.a = a\n",
    "        self.b = b\n",
    "        self.p = pari.randomprime(2**160)\n",
    "        self.EC = pari.ellinit([self.a, self.b], self.p)\n",
    "        self.q = pari.ellcard(self.EC)\n",
    "        while pari.isprime(self.q) != 1:\n",
    "            self.p = pari.randomprime(2**160)\n",
    "            self.EC = pari.ellinit([self.a, self.b], self.p)\n",
    "            self.q = pari.ellcard(self.EC)\n",
    "        self.G = str(pari.lift(pari.ellgenerators(self.EC)))[1:-1]\n",
    "    def system(self):\n",
    "        return {'a': self.a,\n",
    "                'b': self.b,\n",
    "                'p': self.p,\n",
    "                'order': self.q,\n",
    "                'G': self.G\n",
    "        }\n",
    "    \n",
    "            "
   ]
  },
  {
   "cell_type": "code",
   "execution_count": 11,
   "id": "c11f57d2-f641-4654-b747-86fa6dcb1d03",
   "metadata": {},
   "outputs": [
    {
     "name": "stdout",
     "output_type": "stream",
     "text": [
      "{'a': 0, 'b': 13, 'p': 1069707925093910102740370644892186637340254553591, 'order': 1069707925093910102740371918449991171611302228159, 'G': '[1053766401548643417009905698147036239732558331719, 343094502971481818875477243358095088932820259642]'}\n"
     ]
    }
   ],
   "source": [
    "ecdsa = ECDSASys(0, 13)\n",
    "par = ecdsa.system()\n",
    "print(par)"
   ]
  },
  {
   "cell_type": "code",
   "execution_count": 12,
   "id": "6402f6ba-fea4-4eaa-a39f-7b658e5b764e",
   "metadata": {},
   "outputs": [],
   "source": [
    "class ECDSAUser:\n",
    "    def __init__(self, par):\n",
    "        self.par = par\n",
    "        self._d = pari.random(self.par['order'])\n",
    "        self.EC = pari.ellinit([self.par['a'], self.par['b']], self.par['p'])\n",
    "        self.A = pari.lift(pari.ellmul(self.EC, self.par['G'], self._d))\n",
    "    def pubKey(self):\n",
    "        return { 'a': self.par['a'],\n",
    "                'b': self.par['b'],\n",
    "                'p': self.par['p'],\n",
    "                'order': self.par['order'],\n",
    "                'G': self.par['G'],\n",
    "                'A': self.A,\n",
    "        }\n",
    "    #the signing of an information\n",
    "    def sign(self, h):\n",
    "        k = pari.random(self.par['order'])\n",
    "        #compute R = G.K\n",
    "        R = str(pari.lift(pari.ellmul(self.EC, self.par['G'], k)))\n",
    "        Xr = int(R[1: R.find(',')])\n",
    "        s = ((h + self._d*Xr)*pari.lift(pow(k, self.par['order']-2, self.par['order'])))%self.par['order']\n",
    "        return [Xr, s]\n",
    "    #make the verification method static because it is independent of the global class\n",
    "    @staticmethod\n",
    "    #verify a signature\n",
    "    def verification(KeyPub, sign, h):\n",
    "        Ec = pari.ellinit([KeyPub['a'], KeyPub['b']], KeyPub['p'])\n",
    "        w = pari.lift(pow(sign[1], KeyPub['order'] - 2, KeyPub['order']))\n",
    "        u1 = (w*h)%KeyPub['order']\n",
    "        u2 = (sign[0]*w)%KeyPub['order']\n",
    "        P = str(pari.lift(pari.lift(pari.elladd(Ec, pari.ellmul(Ec, KeyPub['G'], u1), pari.ellmul(Ec, KeyPub['A'], u2)))))\n",
    "        if P[1:P.find(',')] == str(sign[0]):\n",
    "            return 'Signature Valid'\n",
    "        else:\n",
    "            return 'Signature Invalid'"
   ]
  },
  {
   "cell_type": "code",
   "execution_count": 13,
   "id": "4a0a4b68-58ac-47ad-a757-e64dbef8272c",
   "metadata": {},
   "outputs": [
    {
     "name": "stdout",
     "output_type": "stream",
     "text": [
      "{'a': 0, 'b': 13, 'p': 1069707925093910102740370644892186637340254553591, 'order': 1069707925093910102740371918449991171611302228159, 'G': '[1053766401548643417009905698147036239732558331719, 343094502971481818875477243358095088932820259642]', 'A': [288343987260938234180578995984449310532471062429, 278880706501126084564057258095075233135145327389]}\n",
      "signatur is: [870604441365925023146509316504073023355869463242, 429180713947345168201779069257159463867052806843]\n",
      "________________________________________________________________________________\n",
      "{'a': 0, 'b': 13, 'p': 1069707925093910102740370644892186637340254553591, 'order': 1069707925093910102740371918449991171611302228159, 'G': '[1053766401548643417009905698147036239732558331719, 343094502971481818875477243358095088932820259642]', 'A': [286725149514983995021790124522530181764371753352, 15753818846136929686153724157089056290305137104]}\n",
      "signatur is: [980707111646914543298457483529032176417149139051, 226020769045419589652294264163293061083050243280]\n",
      "********************************************************************************\n",
      "Signature Valid\n",
      "Signature Valid\n"
     ]
    }
   ],
   "source": [
    "ecdsaUser1 = ECDSAUser(par)\n",
    "user1Key = ecdsaUser1.pubKey()\n",
    "print(user1Key)\n",
    "sign1 = ecdsaUser1.sign(12)\n",
    "print(f'signatur is: {sign1}')\n",
    "print(\"_\"*80)\n",
    "ecdsaUser2 = ECDSAUser(par)\n",
    "user2Key = ecdsaUser2.pubKey()\n",
    "print(user2Key)\n",
    "sign2 = ecdsaUser2.sign(12)\n",
    "print(f'signatur is: {sign2}')\n",
    "print('*'*80)\n",
    "print(ecdsaUser1.verification(user2Key, sign2, 12))\n",
    "print(ecdsaUser2.verification(user1Key, sign1, 12))"
   ]
  },
  {
   "cell_type": "code",
   "execution_count": null,
   "id": "9979a273-90ef-489e-b3d8-5970f3508a73",
   "metadata": {},
   "outputs": [],
   "source": []
  }
 ],
 "metadata": {
  "kernelspec": {
   "display_name": "Python 3 (ipykernel)",
   "language": "python",
   "name": "python3"
  },
  "language_info": {
   "codemirror_mode": {
    "name": "ipython",
    "version": 3
   },
   "file_extension": ".py",
   "mimetype": "text/x-python",
   "name": "python",
   "nbconvert_exporter": "python",
   "pygments_lexer": "ipython3",
   "version": "3.9.2"
  }
 },
 "nbformat": 4,
 "nbformat_minor": 5
}
