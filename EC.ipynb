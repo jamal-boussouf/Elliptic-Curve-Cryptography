{
 "cells": [
  {
   "cell_type": "code",
   "execution_count": 1,
   "id": "10e3e34b",
   "metadata": {},
   "outputs": [
    {
     "name": "stdin",
     "output_type": "stream",
     "text": [
      "inter a prime number:  23\n",
      "inter a namber a:  4\n",
      "inter a number b:  4\n"
     ]
    },
    {
     "name": "stdout",
     "output_type": "stream",
     "text": [
      "y^2 = x^3 + 4*x + 4 Mod(23)\n"
     ]
    }
   ],
   "source": [
    "p = int(input(\"inter a prime number: \"))\n",
    "a = int(input(\"inter a namber a: \"))\n",
    "b = int(input(\"inter a number b: \"))\n",
    "print(f\"y^2 = x^3 + {a}*x + {b} Mod({p})\")"
   ]
  },
  {
   "cell_type": "code",
   "execution_count": 2,
   "id": "416e0e17",
   "metadata": {},
   "outputs": [],
   "source": [
    "###generate the list of poits\n",
    "def listPoint(a, b, p):\n",
    "    list_of_point = []\n",
    "    i = 0\n",
    "    while i < p:\n",
    "        j = 0\n",
    "        while j < p:\n",
    "            if (pow(j, 2, p)) == ((pow(i, 3) + a*(i%p) + b) % p):\n",
    "                #print(f\"({i}, {j})\")\n",
    "                list_of_point.append((i, j))\n",
    "                #plt.scatter(i, j)\n",
    "            j+=1\n",
    "        i+=1\n",
    "    return list_of_point"
   ]
  },
  {
   "cell_type": "code",
   "execution_count": 3,
   "id": "ba5bbd97",
   "metadata": {},
   "outputs": [
    {
     "name": "stdout",
     "output_type": "stream",
     "text": [
      "[(0, 2), (0, 21), (1, 3), (1, 20), (10, 3), (10, 20), (12, 3), (12, 20), (15, 9), (15, 14), (16, 1), (16, 22), (19, 4), (19, 19)] \n",
      " 15\n"
     ]
    }
   ],
   "source": [
    "pointList = listPoint(a, b, p)\n",
    "print(pointList, \"\\n\", len(pointList)+1)"
   ]
  },
  {
   "cell_type": "code",
   "execution_count": 4,
   "id": "32c9cb84-a4dd-4bc8-b03f-eb535fb447a5",
   "metadata": {},
   "outputs": [
    {
     "data": {
      "image/png": "[encoded data removed]",
      "text/plain": [
       "<Figure size 432x288 with 1 Axes>"
      ]
     },
     "metadata": {
      "needs_background": "light"
     },
     "output_type": "display_data"
    }
   ],
   "source": [
    "import matplotlib.pyplot as plt\n",
    "for i in range(0, len(pointList)):\n",
    "    plt.scatter(pointList[i][0], pointList[i][1])"
   ]
  },
  {
   "cell_type": "code",
   "execution_count": 6,
   "id": "c9bc38a3",
   "metadata": {},
   "outputs": [],
   "source": [
    "###list of generator\n",
    "def listGenerator(a, b, p, pointList):\n",
    "    list_of_generator = []\n",
    "    justList = []\n",
    "    for i in range(0, len(pointList)):\n",
    "        justList.clear()\n",
    "        flag = True\n",
    "        G = pointList[i]\n",
    "        justList.append(G)\n",
    "        while (justList[-1][0] != G[0]) or flag:\n",
    "            flag = False\n",
    "            if (justList[-1] == G) and G[1] != 0:\n",
    "                s = ((3*pow(G[0], 2) + a) * pow(2*G[1], p-2, p))%p\n",
    "                #print(s)\n",
    "            elif (justList[-1][0] != G[0]):\n",
    "                s = ((G[1] - justList[-1][1])*pow((G[0] - justList[-1][0]), p-1, p))%p\n",
    "            else:\n",
    "                break\n",
    "            x = (pow(s, 2) - justList[-1][0] - G[0])%p\n",
    "            y = (s*(justList[-1][0] - x) - justList[-1][1])%p\n",
    "            justList.append((x, y))\n",
    "            if len(justList) == len(pointList):\n",
    "                list_of_generator.append(G)\n",
    "                break\n",
    "        #print(list_of_generator)\n",
    "        #print(justList)\n",
    "    return list_of_generator"
   ]
  },
  {
   "cell_type": "code",
   "execution_count": 7,
   "id": "c7ac2f4b",
   "metadata": {},
   "outputs": [],
   "source": [
    "def sume(a, b, p, Apoint, Bpoint):\n",
    "    if Apoint == Bpoint and Apoint[1] != 0:\n",
    "        s = ((3*pow(Apoint[0], 2) + a)*(pow(2*Apoint[1], p-2, p)))%p\n",
    "    elif Apoint[0] != Bpoint[0]:\n",
    "        s = ((Bpoint[1] - Apoint[1])*(pow((Bpoint[0] - Apoint[0]), p-2, p)))%p\n",
    "    else:\n",
    "        print(\"point at infinity\")\n",
    "        return\n",
    "    x = (pow(s, 2)-Apoint[0] - Bpoint[0])%p\n",
    "    y = (s*(Apoint[0] - x) - Apoint[1])%p\n",
    "    return (x, y)"
   ]
  },
  {
   "cell_type": "code",
   "execution_count": 8,
   "id": "93a711e3",
   "metadata": {},
   "outputs": [
    {
     "name": "stdout",
     "output_type": "stream",
     "text": [
      "[(12, 12), (12, 31), (13, 21), (13, 22), (29, 12), (29, 31), (32, 3), (32, 40), (34, 3), (34, 40), (35, 21), (35, 22), (42, 7), (42, 36)]\n"
     ]
    }
   ],
   "source": [
    "print(listGenerator(a, b, p, pointList))"
   ]
  },
  {
   "cell_type": "code",
   "execution_count": 38,
   "id": "097389a0",
   "metadata": {},
   "outputs": [
    {
     "name": "stdout",
     "output_type": "stream",
     "text": [
      "point at infinity\n",
      "None\n"
     ]
    }
   ],
   "source": [
    "print(sume(a, b, p, (13, 22), (13, 21)))"
   ]
  },
  {
   "cell_type": "code",
   "execution_count": 20,
   "id": "2e42ffe4",
   "metadata": {},
   "outputs": [],
   "source": [
    "def scalarMulNormalMethod(a, b, p, scaler, point):\n",
    "    T = point\n",
    "    for i in range(1, scaler):\n",
    "        T = sume(a, b, p, T, point)\n",
    "        if T == None:\n",
    "            T=point\n",
    "    return T"
   ]
  },
  {
   "cell_type": "code",
   "execution_count": 23,
   "id": "82d1ba8a",
   "metadata": {},
   "outputs": [
    {
     "name": "stdout",
     "output_type": "stream",
     "text": [
      "(1, 24)\n"
     ]
    }
   ],
   "source": [
    "print(scalarMulNormalMethod(a, b, p, 17, (2, 50)))"
   ]
  },
  {
   "cell_type": "code",
   "execution_count": 37,
   "id": "1187765b",
   "metadata": {},
   "outputs": [],
   "source": [
    "def scalarMulBinaryMethod(a, b, p, scalar, point):\n",
    "    strg = format(scalar, 'b')\n",
    "    T = point\n",
    "    for i in range(0, len(strg)-1):\n",
    "        T = sume(a, b, p, T, T)\n",
    "        if strg[1+i: i+2] == '1':\n",
    "            T = sume(a, b, p, T, point)\n",
    "        if T == None:\n",
    "            T = point\n",
    "    return T"
   ]
  },
  {
   "cell_type": "code",
   "execution_count": 38,
   "id": "d526d4f7",
   "metadata": {},
   "outputs": [
    {
     "name": "stdout",
     "output_type": "stream",
     "text": [
      "(1, 24)\n"
     ]
    }
   ],
   "source": [
    "print(scalarMulBinaryMethod(a, b, p, 17, (2, 50)))"
   ]
  },
  {
   "cell_type": "code",
   "execution_count": null,
   "id": "1cf45140",
   "metadata": {},
   "outputs": [],
   "source": []
  }
 ],
 "metadata": {
  "kernelspec": {
   "display_name": "Python 3 (ipykernel)",
   "language": "python",
   "name": "python3"
  },
  "language_info": {
   "codemirror_mode": {
    "name": "ipython",
    "version": 3
   },
   "file_extension": ".py",
   "mimetype": "text/x-python",
   "name": "python",
   "nbconvert_exporter": "python",
   "pygments_lexer": "ipython3",
   "version": "3.9.2"
  }
 },
 "nbformat": 4,
 "nbformat_minor": 5
}
