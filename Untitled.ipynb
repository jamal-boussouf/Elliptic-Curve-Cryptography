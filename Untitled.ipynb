{
 "cells": [
  {
   "cell_type": "code",
   "execution_count": 10,
   "id": "eaa94727-471c-47fd-b0c5-3f0e993025db",
   "metadata": {},
   "outputs": [
    {
     "name": "stdout",
     "output_type": "stream",
     "text": [
      "'cypari2' has been imported\n"
     ]
    }
   ],
   "source": [
    "#check if cypari2 is installed or not and install it if not\n",
    "import importlib.util\n",
    "import sys\n",
    "import os\n",
    "if 'cypari2' in sys.modules:\n",
    "    #print(f\"'cypari2' already in sys.modules\")\n",
    "elif (spec := importlib.util.find_spec('cypari2')) is not None:\n",
    "    # If you choose to perform the actual import ...\n",
    "    module = importlib.util.module_from_spec(spec)\n",
    "    sys.modules['cypari2'] = module\n",
    "    spec.loader.exec_module(module)\n",
    "    #print(f\"'cypari2' has been imported\")\n",
    "else:\n",
    "    install = input(\"Do you want to install cypari2 to complicate the work? (y/n): \")\n",
    "    if install == 'y':\n",
    "        os.system('pip install cypari2')\n",
    "    else:\n",
    "        print('[!]sorry we can complit work')\n",
    "        sys.exit()"
   ]
  },
  {
   "cell_type": "code",
   "execution_count": 19,
   "id": "aeb5d2b9-417e-49eb-91ac-989ecc12f30b",
   "metadata": {},
   "outputs": [],
   "source": [
    "#import Pari/GP from cypari\n",
    "from cypari2 import Pari\n",
    "pari = Pari()"
   ]
  },
  {
   "cell_type": "code",
   "execution_count": 171,
   "id": "925a63f7-6284-4d12-88b1-40d1f75464fa",
   "metadata": {},
   "outputs": [],
   "source": [
    "#create the system part\n",
    "class ECDHSys:\n",
    "    #declare a curve \n",
    "    def __init__(self, a, b, p):\n",
    "        self.a = a\n",
    "        self.b = b\n",
    "        self.p = p\n",
    "        self.EC = pari.ellinit([self.a, self.b], self.p)\n",
    "        self.ordre = pari.ellcard(self.EC)\n",
    "        self.generator = str(pari.lift(pari.ellgenerators(self.EC)))[1: -1]\n",
    "    #return importent informations for ECDSA\n",
    "    def system_key(self):\n",
    "        return {\n",
    "            'a' : self.a,\n",
    "            'b' : self.b,\n",
    "            'p' : self.p,\n",
    "            'ordre': self.ordre,\n",
    "            'generator': self.generator\n",
    "            \n",
    "        }"
   ]
  },
  {
   "cell_type": "code",
   "execution_count": 188,
   "id": "65bff989-a5f2-4f73-aa6a-2a491773e4a1",
   "metadata": {},
   "outputs": [],
   "source": [
    "class ECDHUser:\n",
    "    #create a curve and generate a random number as a private key\n",
    "    def __init__(self, system):\n",
    "        self.system = system\n",
    "        self.EC = pari.ellinit([self.system['a'], self.system['b']], self.system['p'])\n",
    "        self.d = pari.random(system['ordre'])\n",
    "        self.PubKey = 0\n",
    "        while self.PubKey == 0:\n",
    "            self.PubKey = pari.ellmul(self.EC, self.system['generator'], self.d)\n",
    "    #generate publik key\n",
    "    def public_key(self):\n",
    "        return pari.lift(self.PubKey)\n",
    "    #generate shared key\n",
    "    def generate_shared_key(self, point):\n",
    "        self.k = pari.lift(pari.ellmul(self.EC, point, self.d))\n",
    "        return self.k"
   ]
  },
  {
   "cell_type": "code",
   "execution_count": 190,
   "id": "da7ebdac-3bc6-4b7b-ae80-9fc36f39074c",
   "metadata": {},
   "outputs": [
    {
     "name": "stdin",
     "output_type": "stream",
     "text": [
      "value of 'a':  0\n",
      "value of 'b':  7\n",
      "value of 'p':  43\n"
     ]
    },
    {
     "name": "stdout",
     "output_type": "stream",
     "text": [
      "{'a': 0, 'b': 7, 'p': 43, 'ordre': 31, 'generator': '[13, 21]'}\n",
      "[21, 18]\n",
      "[38, 22]\n",
      "[25, 25]\n",
      "[25, 25]\n"
     ]
    }
   ],
   "source": [
    "a = int(input(\"value of 'a': \"))\n",
    "b = int(input(\"value of 'b': \"))\n",
    "p = int(input(\"value of 'p': \"))\n",
    "\n",
    "#create a system\n",
    "system = ECDHSys(a, b, p)\n",
    "sysKey = system.system_key()\n",
    "print(sysKey)\n",
    "\n",
    "#create users\n",
    "user1 = ECDHUser(sysKey)\n",
    "user2 = ECDHUser(sysKey)\n",
    "user1_key = user1.public_key()\n",
    "user2_key = user2.public_key()\n",
    "print(user1_key)\n",
    "print(user2_key)\n",
    "print(user1.generate_shared_key(user2_key))\n",
    "print(user2.generate_shared_key(user1_key))"
   ]
  },
  {
   "cell_type": "code",
   "execution_count": null,
   "id": "a6d26906-2c1e-45fd-a633-ce1fec6ff53b",
   "metadata": {},
   "outputs": [],
   "source": []
  }
 ],
 "metadata": {
  "kernelspec": {
   "display_name": "Python 3 (ipykernel)",
   "language": "python",
   "name": "python3"
  },
  "language_info": {
   "codemirror_mode": {
    "name": "ipython",
    "version": 3
   },
   "file_extension": ".py",
   "mimetype": "text/x-python",
   "name": "python",
   "nbconvert_exporter": "python",
   "pygments_lexer": "ipython3",
   "version": "3.9.2"
  }
 },
 "nbformat": 4,
 "nbformat_minor": 5
}
